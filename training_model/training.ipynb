{
 "cells": [
  {
   "cell_type": "markdown",
   "metadata": {},
   "source": [
    "<h1>Import Library</h1>"
   ]
  },
  {
   "cell_type": "code",
   "execution_count": 1,
   "metadata": {},
   "outputs": [],
   "source": [
    "import pandas as pd\n",
    "from sklearn.model_selection import train_test_split\n",
    "from sklearn.impute import SimpleImputer\n",
    "from sklearn.preprocessing import LabelEncoder, StandardScaler\n",
    "from sklearn.svm import SVC\n",
    "from sklearn.metrics import accuracy_score, confusion_matrix, classification_report\n",
    "import joblib"
   ]
  },
  {
   "cell_type": "markdown",
   "metadata": {},
   "source": [
    "<h1>Baca Dataset</h1>"
   ]
  },
  {
   "cell_type": "code",
   "execution_count": 2,
   "metadata": {},
   "outputs": [
    {
     "data": {
      "text/html": [
       "<div>\n",
       "<style scoped>\n",
       "    .dataframe tbody tr th:only-of-type {\n",
       "        vertical-align: middle;\n",
       "    }\n",
       "\n",
       "    .dataframe tbody tr th {\n",
       "        vertical-align: top;\n",
       "    }\n",
       "\n",
       "    .dataframe thead th {\n",
       "        text-align: right;\n",
       "    }\n",
       "</style>\n",
       "<table border=\"1\" class=\"dataframe\">\n",
       "  <thead>\n",
       "    <tr style=\"text-align: right;\">\n",
       "      <th></th>\n",
       "      <th>nim</th>\n",
       "      <th>nama</th>\n",
       "      <th>jk</th>\n",
       "      <th>tahun_masuk_d4</th>\n",
       "      <th>masa_studi</th>\n",
       "      <th>ips1</th>\n",
       "      <th>ips2</th>\n",
       "      <th>ips3</th>\n",
       "      <th>ips4</th>\n",
       "      <th>ips5</th>\n",
       "      <th>ips6</th>\n",
       "      <th>ips7</th>\n",
       "      <th>ipk8</th>\n",
       "      <th>status_cuti</th>\n",
       "      <th>lulus_tepat_waktu</th>\n",
       "    </tr>\n",
       "  </thead>\n",
       "  <tbody>\n",
       "    <tr>\n",
       "      <th>0</th>\n",
       "      <td>13090001</td>\n",
       "      <td>IRFAN NUR YORITA</td>\n",
       "      <td>L</td>\n",
       "      <td>2013</td>\n",
       "      <td>4 tahun</td>\n",
       "      <td>3.57</td>\n",
       "      <td>3.75</td>\n",
       "      <td>3.29</td>\n",
       "      <td>3.59</td>\n",
       "      <td>3.75</td>\n",
       "      <td>3.50</td>\n",
       "      <td>3.62</td>\n",
       "      <td>3.60</td>\n",
       "      <td>Tidak</td>\n",
       "      <td>1</td>\n",
       "    </tr>\n",
       "    <tr>\n",
       "      <th>1</th>\n",
       "      <td>13090002</td>\n",
       "      <td>ARUM FATMAWATI</td>\n",
       "      <td>P</td>\n",
       "      <td>2013</td>\n",
       "      <td>4 tahun</td>\n",
       "      <td>3.48</td>\n",
       "      <td>3.75</td>\n",
       "      <td>3.43</td>\n",
       "      <td>3.73</td>\n",
       "      <td>3.85</td>\n",
       "      <td>3.70</td>\n",
       "      <td>3.85</td>\n",
       "      <td>3.66</td>\n",
       "      <td>Tidak</td>\n",
       "      <td>1</td>\n",
       "    </tr>\n",
       "    <tr>\n",
       "      <th>2</th>\n",
       "      <td>13090004</td>\n",
       "      <td>FAJAR RASIA ABADI</td>\n",
       "      <td>L</td>\n",
       "      <td>2013</td>\n",
       "      <td>4 tahun</td>\n",
       "      <td>3.48</td>\n",
       "      <td>3.65</td>\n",
       "      <td>3.62</td>\n",
       "      <td>3.77</td>\n",
       "      <td>3.75</td>\n",
       "      <td>3.15</td>\n",
       "      <td>4.00</td>\n",
       "      <td>3.63</td>\n",
       "      <td>Tidak</td>\n",
       "      <td>1</td>\n",
       "    </tr>\n",
       "    <tr>\n",
       "      <th>3</th>\n",
       "      <td>13090005</td>\n",
       "      <td>KHUSNUL MA'MUROH</td>\n",
       "      <td>P</td>\n",
       "      <td>2013</td>\n",
       "      <td>4 tahun</td>\n",
       "      <td>3.33</td>\n",
       "      <td>3.70</td>\n",
       "      <td>3.71</td>\n",
       "      <td>3.64</td>\n",
       "      <td>3.75</td>\n",
       "      <td>3.60</td>\n",
       "      <td>3.69</td>\n",
       "      <td>3.65</td>\n",
       "      <td>Tidak</td>\n",
       "      <td>1</td>\n",
       "    </tr>\n",
       "    <tr>\n",
       "      <th>4</th>\n",
       "      <td>13090007</td>\n",
       "      <td>IMAM MUNANDAR PRATAMA</td>\n",
       "      <td>L</td>\n",
       "      <td>2013</td>\n",
       "      <td>4 tahun</td>\n",
       "      <td>2.71</td>\n",
       "      <td>3.15</td>\n",
       "      <td>3.05</td>\n",
       "      <td>3.27</td>\n",
       "      <td>2.60</td>\n",
       "      <td>2.75</td>\n",
       "      <td>3.31</td>\n",
       "      <td>2.98</td>\n",
       "      <td>Tidak</td>\n",
       "      <td>1</td>\n",
       "    </tr>\n",
       "  </tbody>\n",
       "</table>\n",
       "</div>"
      ],
      "text/plain": [
       "        nim                   nama jk  tahun_masuk_d4 masa_studi  ips1  ips2  \\\n",
       "0  13090001       IRFAN NUR YORITA  L            2013    4 tahun  3.57  3.75   \n",
       "1  13090002         ARUM FATMAWATI  P            2013    4 tahun  3.48  3.75   \n",
       "2  13090004      FAJAR RASIA ABADI  L            2013    4 tahun  3.48  3.65   \n",
       "3  13090005       KHUSNUL MA'MUROH  P            2013    4 tahun  3.33  3.70   \n",
       "4  13090007  IMAM MUNANDAR PRATAMA  L            2013    4 tahun  2.71  3.15   \n",
       "\n",
       "   ips3  ips4  ips5  ips6  ips7  ipk8 status_cuti  lulus_tepat_waktu  \n",
       "0  3.29  3.59  3.75  3.50  3.62  3.60       Tidak                  1  \n",
       "1  3.43  3.73  3.85  3.70  3.85  3.66       Tidak                  1  \n",
       "2  3.62  3.77  3.75  3.15  4.00  3.63       Tidak                  1  \n",
       "3  3.71  3.64  3.75  3.60  3.69  3.65       Tidak                  1  \n",
       "4  3.05  3.27  2.60  2.75  3.31  2.98       Tidak                  1  "
      ]
     },
     "execution_count": 2,
     "metadata": {},
     "output_type": "execute_result"
    }
   ],
   "source": [
    "data_path = 'content/cleaned_data_kelulusan.csv'\n",
    "df = pd.read_csv(data_path)\n",
    "\n",
    "df.head()"
   ]
  },
  {
   "cell_type": "markdown",
   "metadata": {},
   "source": [
    "<h1>Buang Kolom yang Tidak Diperlukan</h1>"
   ]
  },
  {
   "cell_type": "code",
   "execution_count": 3,
   "metadata": {},
   "outputs": [
    {
     "data": {
      "text/plain": [
       "Index(['jk', 'tahun_masuk_d4', 'masa_studi', 'ips1', 'ips2', 'ips3', 'ips4',\n",
       "       'ips5', 'ips6', 'ips7', 'ipk8', 'status_cuti', 'lulus_tepat_waktu'],\n",
       "      dtype='object')"
      ]
     },
     "execution_count": 3,
     "metadata": {},
     "output_type": "execute_result"
    }
   ],
   "source": [
    "df.drop(['nim', 'nama'], axis=1, inplace=True)\n",
    "\n",
    "# Tampilkan nama kolom yang tersisa\n",
    "df.columns"
   ]
  },
  {
   "cell_type": "markdown",
   "metadata": {},
   "source": [
    "<h1>Preprocessing Kolom 'masa_studi'</h1>"
   ]
  },
  {
   "cell_type": "code",
   "execution_count": 4,
   "metadata": {},
   "outputs": [
    {
     "data": {
      "text/plain": [
       "0    4.0\n",
       "1    4.0\n",
       "2    4.0\n",
       "3    4.0\n",
       "4    4.0\n",
       "Name: masa_studi, dtype: float64"
      ]
     },
     "execution_count": 4,
     "metadata": {},
     "output_type": "execute_result"
    }
   ],
   "source": [
    "if 'masa_studi' in df.columns:\n",
    "    df['masa_studi'] = df['masa_studi'].astype(str).str.replace(' tahun', '', regex=False)\n",
    "    df['masa_studi'] = pd.to_numeric(df['masa_studi'], errors='coerce')\n",
    "\n",
    "# Tampilkan hasil setelah preprocessing\n",
    "df['masa_studi'].head()\n"
   ]
  },
  {
   "cell_type": "markdown",
   "metadata": {},
   "source": [
    "<h1>Tentukan Fitur dan Target</h1>"
   ]
  },
  {
   "cell_type": "code",
   "execution_count": 5,
   "metadata": {},
   "outputs": [
    {
     "name": "stdout",
     "output_type": "stream",
     "text": [
      "Shape X: (663, 8)\n",
      "Shape y: (663,)\n"
     ]
    }
   ],
   "source": [
    "feature_cols = ['ips1', 'ips2', 'ips3', 'ips4', 'ips5', 'ips6', 'ips7', 'status_cuti']\n",
    "\n",
    "target_col = 'lulus_tepat_waktu'\n",
    "\n",
    "X = df[feature_cols].copy()\n",
    "y = df[target_col].copy()\n",
    "\n",
    "print(\"Shape X:\", X.shape)\n",
    "print(\"Shape y:\", y.shape)\n"
   ]
  },
  {
   "cell_type": "markdown",
   "metadata": {},
   "source": [
    "<h1>Tangani Missing Values</h1>"
   ]
  },
  {
   "cell_type": "code",
   "execution_count": 6,
   "metadata": {},
   "outputs": [
    {
     "data": {
      "text/html": [
       "<div>\n",
       "<style scoped>\n",
       "    .dataframe tbody tr th:only-of-type {\n",
       "        vertical-align: middle;\n",
       "    }\n",
       "\n",
       "    .dataframe tbody tr th {\n",
       "        vertical-align: top;\n",
       "    }\n",
       "\n",
       "    .dataframe thead th {\n",
       "        text-align: right;\n",
       "    }\n",
       "</style>\n",
       "<table border=\"1\" class=\"dataframe\">\n",
       "  <thead>\n",
       "    <tr style=\"text-align: right;\">\n",
       "      <th></th>\n",
       "      <th>ips1</th>\n",
       "      <th>ips2</th>\n",
       "      <th>ips3</th>\n",
       "      <th>ips4</th>\n",
       "      <th>ips5</th>\n",
       "      <th>ips6</th>\n",
       "      <th>ips7</th>\n",
       "      <th>status_cuti</th>\n",
       "    </tr>\n",
       "  </thead>\n",
       "  <tbody>\n",
       "    <tr>\n",
       "      <th>0</th>\n",
       "      <td>3.57</td>\n",
       "      <td>3.75</td>\n",
       "      <td>3.29</td>\n",
       "      <td>3.59</td>\n",
       "      <td>3.75</td>\n",
       "      <td>3.50</td>\n",
       "      <td>3.62</td>\n",
       "      <td>Tidak</td>\n",
       "    </tr>\n",
       "    <tr>\n",
       "      <th>1</th>\n",
       "      <td>3.48</td>\n",
       "      <td>3.75</td>\n",
       "      <td>3.43</td>\n",
       "      <td>3.73</td>\n",
       "      <td>3.85</td>\n",
       "      <td>3.70</td>\n",
       "      <td>3.85</td>\n",
       "      <td>Tidak</td>\n",
       "    </tr>\n",
       "    <tr>\n",
       "      <th>2</th>\n",
       "      <td>3.48</td>\n",
       "      <td>3.65</td>\n",
       "      <td>3.62</td>\n",
       "      <td>3.77</td>\n",
       "      <td>3.75</td>\n",
       "      <td>3.15</td>\n",
       "      <td>4.00</td>\n",
       "      <td>Tidak</td>\n",
       "    </tr>\n",
       "    <tr>\n",
       "      <th>3</th>\n",
       "      <td>3.33</td>\n",
       "      <td>3.70</td>\n",
       "      <td>3.71</td>\n",
       "      <td>3.64</td>\n",
       "      <td>3.75</td>\n",
       "      <td>3.60</td>\n",
       "      <td>3.69</td>\n",
       "      <td>Tidak</td>\n",
       "    </tr>\n",
       "    <tr>\n",
       "      <th>4</th>\n",
       "      <td>2.71</td>\n",
       "      <td>3.15</td>\n",
       "      <td>3.05</td>\n",
       "      <td>3.27</td>\n",
       "      <td>2.60</td>\n",
       "      <td>2.75</td>\n",
       "      <td>3.31</td>\n",
       "      <td>Tidak</td>\n",
       "    </tr>\n",
       "  </tbody>\n",
       "</table>\n",
       "</div>"
      ],
      "text/plain": [
       "   ips1  ips2  ips3  ips4  ips5  ips6  ips7 status_cuti\n",
       "0  3.57  3.75  3.29  3.59  3.75  3.50  3.62       Tidak\n",
       "1  3.48  3.75  3.43  3.73  3.85  3.70  3.85       Tidak\n",
       "2  3.48  3.65  3.62  3.77  3.75  3.15  4.00       Tidak\n",
       "3  3.33  3.70  3.71  3.64  3.75  3.60  3.69       Tidak\n",
       "4  2.71  3.15  3.05  3.27  2.60  2.75  3.31       Tidak"
      ]
     },
     "execution_count": 6,
     "metadata": {},
     "output_type": "execute_result"
    }
   ],
   "source": [
    "from sklearn.impute import SimpleImputer\n",
    "\n",
    "categorical_cols = ['status_cuti']\n",
    "numerical_cols = ['ips1', 'ips2', 'ips3', 'ips4', 'ips5', 'ips6', 'ips7']\n",
    "\n",
    "num_imputer = SimpleImputer(strategy='mean')\n",
    "cat_imputer = SimpleImputer(strategy='most_frequent')\n",
    "\n",
    "X[numerical_cols] = num_imputer.fit_transform(X[numerical_cols])\n",
    "X[categorical_cols] = cat_imputer.fit_transform(X[categorical_cols])\n",
    "\n",
    "X.head()\n"
   ]
  },
  {
   "cell_type": "markdown",
   "metadata": {},
   "source": [
    "<h1>Encoding Kolom Kategoris</h1>"
   ]
  },
  {
   "cell_type": "code",
   "execution_count": 7,
   "metadata": {},
   "outputs": [
    {
     "data": {
      "text/html": [
       "<div>\n",
       "<style scoped>\n",
       "    .dataframe tbody tr th:only-of-type {\n",
       "        vertical-align: middle;\n",
       "    }\n",
       "\n",
       "    .dataframe tbody tr th {\n",
       "        vertical-align: top;\n",
       "    }\n",
       "\n",
       "    .dataframe thead th {\n",
       "        text-align: right;\n",
       "    }\n",
       "</style>\n",
       "<table border=\"1\" class=\"dataframe\">\n",
       "  <thead>\n",
       "    <tr style=\"text-align: right;\">\n",
       "      <th></th>\n",
       "      <th>ips1</th>\n",
       "      <th>ips2</th>\n",
       "      <th>ips3</th>\n",
       "      <th>ips4</th>\n",
       "      <th>ips5</th>\n",
       "      <th>ips6</th>\n",
       "      <th>ips7</th>\n",
       "      <th>status_cuti</th>\n",
       "    </tr>\n",
       "  </thead>\n",
       "  <tbody>\n",
       "    <tr>\n",
       "      <th>0</th>\n",
       "      <td>3.57</td>\n",
       "      <td>3.75</td>\n",
       "      <td>3.29</td>\n",
       "      <td>3.59</td>\n",
       "      <td>3.75</td>\n",
       "      <td>3.50</td>\n",
       "      <td>3.62</td>\n",
       "      <td>1</td>\n",
       "    </tr>\n",
       "    <tr>\n",
       "      <th>1</th>\n",
       "      <td>3.48</td>\n",
       "      <td>3.75</td>\n",
       "      <td>3.43</td>\n",
       "      <td>3.73</td>\n",
       "      <td>3.85</td>\n",
       "      <td>3.70</td>\n",
       "      <td>3.85</td>\n",
       "      <td>1</td>\n",
       "    </tr>\n",
       "    <tr>\n",
       "      <th>2</th>\n",
       "      <td>3.48</td>\n",
       "      <td>3.65</td>\n",
       "      <td>3.62</td>\n",
       "      <td>3.77</td>\n",
       "      <td>3.75</td>\n",
       "      <td>3.15</td>\n",
       "      <td>4.00</td>\n",
       "      <td>1</td>\n",
       "    </tr>\n",
       "    <tr>\n",
       "      <th>3</th>\n",
       "      <td>3.33</td>\n",
       "      <td>3.70</td>\n",
       "      <td>3.71</td>\n",
       "      <td>3.64</td>\n",
       "      <td>3.75</td>\n",
       "      <td>3.60</td>\n",
       "      <td>3.69</td>\n",
       "      <td>1</td>\n",
       "    </tr>\n",
       "    <tr>\n",
       "      <th>4</th>\n",
       "      <td>2.71</td>\n",
       "      <td>3.15</td>\n",
       "      <td>3.05</td>\n",
       "      <td>3.27</td>\n",
       "      <td>2.60</td>\n",
       "      <td>2.75</td>\n",
       "      <td>3.31</td>\n",
       "      <td>1</td>\n",
       "    </tr>\n",
       "  </tbody>\n",
       "</table>\n",
       "</div>"
      ],
      "text/plain": [
       "   ips1  ips2  ips3  ips4  ips5  ips6  ips7  status_cuti\n",
       "0  3.57  3.75  3.29  3.59  3.75  3.50  3.62            1\n",
       "1  3.48  3.75  3.43  3.73  3.85  3.70  3.85            1\n",
       "2  3.48  3.65  3.62  3.77  3.75  3.15  4.00            1\n",
       "3  3.33  3.70  3.71  3.64  3.75  3.60  3.69            1\n",
       "4  2.71  3.15  3.05  3.27  2.60  2.75  3.31            1"
      ]
     },
     "execution_count": 7,
     "metadata": {},
     "output_type": "execute_result"
    }
   ],
   "source": [
    "from sklearn.preprocessing import LabelEncoder\n",
    "\n",
    "label_encoders = {}\n",
    "for col in categorical_cols:\n",
    "    le = LabelEncoder()\n",
    "    X[col] = le.fit_transform(X[col].astype(str))\n",
    "    label_encoders[col] = le\n",
    "\n",
    "X.head()\n"
   ]
  },
  {
   "cell_type": "markdown",
   "metadata": {},
   "source": [
    "<h1>Split Data</h1>"
   ]
  },
  {
   "cell_type": "code",
   "execution_count": 8,
   "metadata": {},
   "outputs": [
    {
     "name": "stdout",
     "output_type": "stream",
     "text": [
      "Data training: (530, 8)\n",
      "Data testing: (133, 8)\n"
     ]
    }
   ],
   "source": [
    "X_train, X_test, y_train, y_test = train_test_split(\n",
    "    X, y, test_size=0.2, random_state=42\n",
    ")\n",
    "\n",
    "print(\"Data training:\", X_train.shape)\n",
    "print(\"Data testing:\", X_test.shape)\n"
   ]
  },
  {
   "cell_type": "markdown",
   "metadata": {},
   "source": [
    "<h1>Scaling Kolom Numerik</h1>"
   ]
  },
  {
   "cell_type": "code",
   "execution_count": 9,
   "metadata": {},
   "outputs": [
    {
     "data": {
      "text/html": [
       "<div>\n",
       "<style scoped>\n",
       "    .dataframe tbody tr th:only-of-type {\n",
       "        vertical-align: middle;\n",
       "    }\n",
       "\n",
       "    .dataframe tbody tr th {\n",
       "        vertical-align: top;\n",
       "    }\n",
       "\n",
       "    .dataframe thead th {\n",
       "        text-align: right;\n",
       "    }\n",
       "</style>\n",
       "<table border=\"1\" class=\"dataframe\">\n",
       "  <thead>\n",
       "    <tr style=\"text-align: right;\">\n",
       "      <th></th>\n",
       "      <th>0</th>\n",
       "      <th>1</th>\n",
       "      <th>2</th>\n",
       "      <th>3</th>\n",
       "      <th>4</th>\n",
       "      <th>5</th>\n",
       "      <th>6</th>\n",
       "      <th>7</th>\n",
       "    </tr>\n",
       "  </thead>\n",
       "  <tbody>\n",
       "    <tr>\n",
       "      <th>0</th>\n",
       "      <td>-1.321202</td>\n",
       "      <td>-1.859088</td>\n",
       "      <td>-0.760437</td>\n",
       "      <td>-1.560383</td>\n",
       "      <td>-0.588412</td>\n",
       "      <td>-1.137743</td>\n",
       "      <td>-2.794786</td>\n",
       "      <td>0.532253</td>\n",
       "    </tr>\n",
       "    <tr>\n",
       "      <th>1</th>\n",
       "      <td>-0.042353</td>\n",
       "      <td>0.927835</td>\n",
       "      <td>1.085891</td>\n",
       "      <td>0.678573</td>\n",
       "      <td>0.980395</td>\n",
       "      <td>-0.237500</td>\n",
       "      <td>-0.768257</td>\n",
       "      <td>0.532253</td>\n",
       "    </tr>\n",
       "    <tr>\n",
       "      <th>2</th>\n",
       "      <td>-2.633705</td>\n",
       "      <td>-2.277126</td>\n",
       "      <td>-1.480192</td>\n",
       "      <td>-1.130994</td>\n",
       "      <td>-0.845593</td>\n",
       "      <td>-1.243654</td>\n",
       "      <td>-1.547691</td>\n",
       "      <td>-1.878807</td>\n",
       "    </tr>\n",
       "    <tr>\n",
       "      <th>3</th>\n",
       "      <td>-0.210623</td>\n",
       "      <td>0.370450</td>\n",
       "      <td>-1.073374</td>\n",
       "      <td>0.249184</td>\n",
       "      <td>1.340449</td>\n",
       "      <td>0.768653</td>\n",
       "      <td>1.040030</td>\n",
       "      <td>0.532253</td>\n",
       "    </tr>\n",
       "    <tr>\n",
       "      <th>4</th>\n",
       "      <td>0.193224</td>\n",
       "      <td>-0.186934</td>\n",
       "      <td>0.147080</td>\n",
       "      <td>-0.456240</td>\n",
       "      <td>-0.356949</td>\n",
       "      <td>0.397965</td>\n",
       "      <td>1.040030</td>\n",
       "      <td>0.532253</td>\n",
       "    </tr>\n",
       "  </tbody>\n",
       "</table>\n",
       "</div>"
      ],
      "text/plain": [
       "          0         1         2         3         4         5         6  \\\n",
       "0 -1.321202 -1.859088 -0.760437 -1.560383 -0.588412 -1.137743 -2.794786   \n",
       "1 -0.042353  0.927835  1.085891  0.678573  0.980395 -0.237500 -0.768257   \n",
       "2 -2.633705 -2.277126 -1.480192 -1.130994 -0.845593 -1.243654 -1.547691   \n",
       "3 -0.210623  0.370450 -1.073374  0.249184  1.340449  0.768653  1.040030   \n",
       "4  0.193224 -0.186934  0.147080 -0.456240 -0.356949  0.397965  1.040030   \n",
       "\n",
       "          7  \n",
       "0  0.532253  \n",
       "1  0.532253  \n",
       "2 -1.878807  \n",
       "3  0.532253  \n",
       "4  0.532253  "
      ]
     },
     "execution_count": 9,
     "metadata": {},
     "output_type": "execute_result"
    }
   ],
   "source": [
    "scaler = StandardScaler()\n",
    "X_train_scaled = scaler.fit_transform(X_train)\n",
    "X_test_scaled = scaler.transform(X_test)\n",
    "\n",
    "# Tampilkan beberapa data setelah scaling\n",
    "pd.DataFrame(X_train_scaled).head()\n"
   ]
  },
  {
   "cell_type": "markdown",
   "metadata": {},
   "source": [
    "<h1>Buat dan Latih Model SVM</h1>"
   ]
  },
  {
   "cell_type": "code",
   "execution_count": 10,
   "metadata": {},
   "outputs": [
    {
     "name": "stdout",
     "output_type": "stream",
     "text": [
      "Cross-validation scores (5 folds): [1.         1.         1.         1.         0.99056604]\n",
      "Mean cross-validation score: 0.9981132075471699\n",
      "Model SVM telah dilatih.\n"
     ]
    }
   ],
   "source": [
    "from sklearn.model_selection import cross_val_score\n",
    "\n",
    "svm_model = SVC(kernel='rbf', C=1.0, gamma='auto', random_state=42)\n",
    "\n",
    "cross_val_scores = cross_val_score(svm_model, X_train_scaled, y_train, cv=5)\n",
    "\n",
    "print(\"Cross-validation scores (5 folds):\", cross_val_scores)\n",
    "print(\"Mean cross-validation score:\", cross_val_scores.mean())\n",
    "\n",
    "svm_model.fit(X_train_scaled, y_train)\n",
    "\n",
    "print(\"Model SVM telah dilatih.\")\n"
   ]
  },
  {
   "cell_type": "markdown",
   "metadata": {},
   "source": [
    "<h1>Evaluasi Model</h1>"
   ]
  },
  {
   "cell_type": "code",
   "execution_count": 11,
   "metadata": {},
   "outputs": [
    {
     "name": "stdout",
     "output_type": "stream",
     "text": [
      "Accuracy: 0.9924812030075187\n",
      "Confusion Matrix:\n",
      " [[ 24   1]\n",
      " [  0 108]]\n",
      "Classification Report:\n",
      "               precision    recall  f1-score   support\n",
      "\n",
      "           0       1.00      0.96      0.98        25\n",
      "           1       0.99      1.00      1.00       108\n",
      "\n",
      "    accuracy                           0.99       133\n",
      "   macro avg       1.00      0.98      0.99       133\n",
      "weighted avg       0.99      0.99      0.99       133\n",
      "\n"
     ]
    }
   ],
   "source": [
    "y_pred = svm_model.predict(X_test_scaled)\n",
    "\n",
    "print(\"Accuracy:\", accuracy_score(y_test, y_pred))\n",
    "print(\"Confusion Matrix:\\n\", confusion_matrix(y_test, y_pred))\n",
    "print(\"Classification Report:\\n\", classification_report(y_test, y_pred))"
   ]
  },
  {
   "cell_type": "markdown",
   "metadata": {},
   "source": [
    "<h1>Simpan Model dan Scaler</h1>"
   ]
  },
  {
   "cell_type": "code",
   "execution_count": 12,
   "metadata": {},
   "outputs": [
    {
     "name": "stdout",
     "output_type": "stream",
     "text": [
      "Model dan scaler berhasil disimpan!\n"
     ]
    }
   ],
   "source": [
    "joblib.dump(svm_model, 'model_trained/svm_model.pkl')\n",
    "joblib.dump(scaler, 'model_trained/scaler.pkl')\n",
    "\n",
    "print(\"Model dan scaler berhasil disimpan!\")\n"
   ]
  }
 ],
 "metadata": {
  "kernelspec": {
   "display_name": "Python 3",
   "language": "python",
   "name": "python3"
  },
  "language_info": {
   "codemirror_mode": {
    "name": "ipython",
    "version": 3
   },
   "file_extension": ".py",
   "mimetype": "text/x-python",
   "name": "python",
   "nbconvert_exporter": "python",
   "pygments_lexer": "ipython3",
   "version": "3.11.3"
  }
 },
 "nbformat": 4,
 "nbformat_minor": 2
}
